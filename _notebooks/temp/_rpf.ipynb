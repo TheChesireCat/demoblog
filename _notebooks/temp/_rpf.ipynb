{
 "cells": [
  {
   "cell_type": "markdown",
   "metadata": {},
   "source": [
    "# The Pursuit of Obscure Assets\n",
    "> In this episode of \"Ankit gets distracted\", we will be looking at some GTA V modding assets\n",
    "\n",
    "- toc: true\n",
    "- badges: false\n",
    "- comments: true\n",
    "- categories: [journal-entry]"
   ]
  },
  {
   "cell_type": "markdown",
   "metadata": {},
   "source": [
    "# What?\n",
    "\n",
    "<!-- In this age of post into the spiderverse high-fidelity in computer graphics I've come to appreciate the charm of an older style influenced by the limitations of hardware.  -->\n",
    "\n",
    "We live in an age of computers where high-fidelity photorealism is only a renderfarm job away. Yet, the popularity of works like [Spider-Man: Into the Spider-Verse, 2018](https://www.imdb.com/title/tt4633694/), [Klaus, 2019](https://www.imdb.com/title/tt4729430/)  and [Arcane, 2021](https://www.imdb.com/title/tt11126994/) show that Non-photorealistic Rendering is still alive and kicking. This psychedelic marraige of 2D and 3D rendering is exactly what excites me about animation. \n",
    "\n",
    "I've been interested in the cinematic quality of retro horror games like [Silent Hill](https://en.wikipedia.org/wiki/Silent_Hill) for a while now and wanted to make something quick and dirty someday. That got me thinking. When I was much younger I was obsessed with [Need For Speed Most Wanted](https://en.wikipedia.org/wiki/Need_for_Speed:_Most_Wanted_(2005_video_game)). For a 2005 game NFS:MW had really well made maps. Maps large enough to base entire stories in.\n",
    "\n",
    "![](https://m.media-amazon.com/images/M/MV5BNTYwNjY3ZWEtZTFmYy00YTljLTk2ZTUtZGFjZTZhZGE2M2NlXkEyXkFqcGdeQXVyNzMzMjE5NjI@._V1_.jpg \"Need For Speed Most Wanted\")\n",
    "\n",
    "Where do I find NFS:MW maps?"
   ]
  },
  {
   "cell_type": "markdown",
   "metadata": {},
   "source": [
    "# The Asset Files\n",
    "\n",
    "Enter GTA V modding. \n"
   ]
  },
  {
   "cell_type": "markdown",
   "metadata": {},
   "source": [
    "# You need GTA V. O RLY?\n"
   ]
  },
  {
   "cell_type": "markdown",
   "metadata": {},
   "source": [
    "# What are RPF files?\n"
   ]
  },
  {
   "cell_type": "markdown",
   "metadata": {},
   "source": [
    "## File Format \n"
   ]
  },
  {
   "cell_type": "markdown",
   "metadata": {},
   "source": [
    "## My first C# Rodeo\n"
   ]
  },
  {
   "cell_type": "markdown",
   "metadata": {},
   "source": [
    "## YDR files\n"
   ]
  },
  {
   "cell_type": "markdown",
   "metadata": {},
   "source": [
    "# Garbled Assets\n"
   ]
  },
  {
   "cell_type": "markdown",
   "metadata": {},
   "source": [
    "# Pitfalls and Future Work"
   ]
  }
 ],
 "metadata": {
  "language_info": {
   "name": "python"
  },
  "orig_nbformat": 4
 },
 "nbformat": 4,
 "nbformat_minor": 2
}
